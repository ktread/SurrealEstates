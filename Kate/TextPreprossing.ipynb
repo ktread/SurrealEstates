{
 "cells": [
  {
   "cell_type": "code",
   "execution_count": 35,
   "metadata": {},
   "outputs": [],
   "source": [
    "colvals = {\n",
    "\"MSSubClass\" : {20: \"1-STORY 1946 & NEWER ALL STYLES\", 30: \"1-STORY 1945 & OLDER\", 40: \"1-STORY W/FINISHED ATTIC ALL AGES\", 45: \"1-1/2 STORY - UNFINISHED ALL AGES\", 50: \"1-1/2 STORY FINISHED ALL AGES\", 60: \"2-STORY 1946 & NEWER\", 70: \"2-STORY 1945 & OLDER\", 75: \"2-1/2 STORY ALL AGES\", 80: \"SPLIT OR MULTI-LEVEL\", 85: \"SPLIT FOYER\", 90: \"DUPLEX - ALL STYLES AND AGES\",120: \"1-STORY PUD (Planned Unit Development) - 1946 & NEWER\",150: \"1-1/2 STORY PUD - ALL AGES\",160: \"2-STORY PUD - 1946 & NEWER\",180: \"PUD - MULTILEVEL - INCL SPLIT LEV/FOYER\",190: \"2 FAMILY CONVERSION - ALL STYLES AND AGES\"},\n",
    "\"MSZoning\": {\"A\" : \"Agriculture\" ,\"C\" : \"Commercial\" ,\"FV\" : \"Floating Village Residential\" ,\"I\" : \"Industrial\" ,\"RH\" : \"Residential High Density\" ,\"RL\" : \"Residential Low Density\" ,\"RP\" : \"Residential Low Density Park\" ,\"RM\" : \"Residential Medium Density\" },\n",
    "\"Neighborhood\":{\"Blmngtn\" : \"Bloomington Heights\",\"Blueste\" : \"Bluestem\",\"BrDale\" : \"Briardale\",\"BrkSide\" : \"Brookside\",\"ClearCr\" : \"Clear Creek\", \"CollgCr\" : \"College Creek\",\"Crawfor\" : \"Crawford\",\"Edwards\" : \"Edwards\",\"Gilbert\" : \"Gilbert\",\"IDOTRR\" : \"Iowa DOT and Rail Road\", \"MeadowV\" : \"Meadow Village\",\"Mitchel\" : \"Mitchell\",\"Names\" : \"North Ames\",\"NoRidge\" : \"Northridge\", \"NPkVill\" : \"Northpark Villa\",\"NridgHt\" : \"Northridge Heights\",\"NWAmes\" : \"Northwest Ames\",\"OldTown\" : \"Old Town\", \"SWISU\" : \"South & West of Iowa State University\",\"Sawyer\" : \"Sawyer\",\"SawyerW\" : \"Sawyer West\",\"Somerst\" : \"Somerset\",\"StoneBr\" : \"Stone Brook\",\"Timber\" : \"Timberland\",\"Veenker\" : \"Veenker\"},\n",
    "\"Condition1\": { \"Artery\" : \"Adjacent to arterial street\", \"Feedr\" : \"Adjacent to feeder street\",\"Norm\" : \"Normal\", \"RRNn\" : \"Within 200' of North-South Railroad\",\"RRAn\" : \"Adjacent to North-South Railroad\",\"PosN\" : \"Near positive off-site feature--park, greenbelt, etc.\", \"PosA\" : \"Adjacent to postive off-site feature\", \"RRNe\" : \"Within 200' of East-West Railroad\", \"RRAe\":\"Adjacent to East-West Railroad\" },\n",
    "\"Condition2\": {\"Artery\"  : \"Adjacent to arterial street\", \"Feedr\" : \"Adjacent to feeder street\",\"Norm\" : \"Normal\", \"RRNn\" : \"Within 200' of North-South Railroad\",\"RRAn\" : \"Adjacent to North-South Railroad\",\"PosN\" : \"Near positive off-site feature--park, greenbelt, etc.\", \"PosA\" : \"Adjacent to postive off-site feature\", \"RRNe\" : \"Within 200' of East-West Railroad\", \"RRAe\" : \"Adjacent to East-West Railroad\"},\n",
    "\"HouseStyle\": {\"1Story\" : \"One story\",\"1.5Fin\" : \"5Fin One and one-half story: 2nd level finished\",\"1.5Unf\" : \"5Unf One and one-half story: 2nd level unfinished\",\"2Story\" : \"Two story\",\"2.5Fin\" :\"Two and one-half story: 2nd level finished\",\"2.5Unf\" :\"Two and one-half story: 2nd level unfinished\",\"SFoyer\" : \"Split Foyer\",\"SLvl\" : \"Split Level\"},\n",
    "\"Exterior1st\":{\"AsbShng\" : \"Asbestos Shingles\",\"AsphShn\" : \"Asphalt Shingles\",\"BrkComm\" : \"Brick Common\",\"BrkFace\" : \"Brick Face\",\"CBlock\" : \"Cinder Block\",\"CemntBd\" : \"Cement Board\",\"HdBoard\" : \"Hard Board\",\"ImStucc\" : \"Imitation Stucco\",\"MetalSd\" : \"Metal Siding\",\"Other\" : \"Other\",\"Plywood\" : \"Plywood\",\"PreCast\" : \"PreCast\",\"Stone\" : \"Stone\",\"Stucco\" : \"Stucco\",\"VinylSd\" : \"Vinyl Siding\",\"Wd\" : \"Sdng Wood Siding\",\"WdShing\" : \"Wood Shingles\"},\n",
    "\"Exterior2nd\":{\"AsbShng\" : \"Asbestos Shingles\",\"AsphShn\" : \"Asphalt Shingles\",\"BrkComm\" : \"Brick Common\",\"BrkFace\" : \"Brick Face\",\"CBlock\" : \"Cinder Block\",\"CemntBd\" : \"Cement Board\",\"HdBoard\" : \"Hard Board\",\"ImStucc\" : \"Imitation Stucco\",\"MetalSd\" : \"Metal Siding\",\"Other\" : \"Other\",\"Plywood\" : \"Plywood\",\"PreCast\" : \"PreCast\",\"Stone\" : \"Stone\",\"Stucco\" : \"Stucco\",\"VinylSd\" : \"Vinyl Siding\",\"Wd\" : \"Sdng Wood Siding\",\"WdShing\" : \"Wood Shingles\"},\n",
    "\"Electrical\": { \"SBrkr\" : \"Standard Circuit Breakers & Romex\", \"FuseA\" : \"Fuse Box over 60 AMP and all Romex wiring (Average) \", \"FuseF\" : \"60 AMP Fuse Box and mostly Romex wiring (Fair)\", \"FuseP\" : \"60 AMP Fuse Box and mostly knob & tube wiring (poor)\", \"Mix\" : \"Mixed\"},\n",
    "\"Functional\": { \"Typ\" : \"Typical Functionality\", \"Min1\" : \"Minor Deductions 1\", \"Min2\" : \"Minor Deductions 2\", \"Mod\" : \"Moderate Deductions\", \"Maj1\" : \"Major Deductions 1\", \"Maj2\" : \"Major Deductions 2\", \"Sev\" : \"Severely Damaged\", \"Sal\" : \"Salvage only\"},\n",
    "\"FireplaceQu\":{ \"Ex\" : \"Excellent - Exceptional Masonry Fireplace\", \"Gd\" : \"Good - Masonry Fireplace in main level\", \"TA\" : \"Average - Prefabricated Fireplace in main living area or Masonry Fireplace in basement\", \"Fa\" : \"Fair - Prefabricated Fireplace in basement\", \"Po\" : \"Poor - Ben Franklin Stove\", \"NA\" : \"No Fireplace\"},\n",
    "\"GarageType\": {\"2Types\" : \"More than one type of garage\",\"Attchd\" : \"Attached to home\",\"Basment\" : \"Basement Garage\",\"BuiltIn\" : \"Built-In (Garage part of house - typically has room above garage)\",\"CarPort\" : \"Car Port\",\"Detchd\" : \"Detached from home\",\"NA\" : \"No Garage\"},\n",
    "\"SaleType\": { \"WD\" : \" Warranty Deed - Conventional\", \"CWD\" : \"Warranty Deed - Cash\", \"VWD\" : \"Warranty Deed - VA Loan\", \"New\" : \"Home just constructed and sold\", \"COD\" : \"Court Officer Deed/Estate\", \"Con\" : \"Contract 15% Down payment regular terms\", \"ConLw\" : \"Contract Low Down payment and low interest\", \"ConLI\" : \"Contract Low Interest\", \"ConLD\" : \"Contract Low Down\", \"Oth\" : \"Other\"},\n",
    "\"SaleCondition\":{\"Normal\" : \"Normal Sale\",\"Abnorml\" : \"Abnormal Sale -trade, foreclosure, short sale\",\"AdjLand\" : \"Adjoining Land Purchase\",\"Alloca\" : \"Allocation - two linked properties with separate deeds, typically condo with a garage unit\",\"Family\" : \"Sale between family members\",\"Partial\" : \"Home was not completed when last assessed (associated with New Homes)\"}, \n",
    "\"Street\" : { \"Grvl\":\"Gravel\",\"Pave\": \"Paved\"},\n",
    "\"Alley\" : {\"Grvl\": \"Gravel\",\"Pave\": \"Paved\",\"NA\":\"No alley access\"},\n",
    "\"LotShape\" :{\"Reg\":\"Regular\" ,\"IR1\":\"Slightly Irregular\",\"IR2\":\"Moderately Irregular\",\"IR3\":\"Irregular\"},\n",
    "\"LandContour\" :{ \"Lvl\": \"Near Flat/Level\",\"Bnk\": \"Banked\",\"HLS\": \"Hillside\",\"Low\": \"Depression\"},\n",
    "\"Utilities\": { \"AllPub\": \"All public Utilities (E,G,W,& S)\",\"NoSewr\": \"Electricity, Gas, and Water (Septic Tank)\",\"NoSeWa\": \"Electricity and Gas Only\",\"ELO\": \"Electricity only\"},\n",
    "\"LotConfig\": {\"Inside\" \"Inside lot\",\"Corner\" \"Corner lot\",\"CulDSac\" \"Cul-de-sac\",\"FR2\" \"Frontage on 2 sides\",\"FR3\" \"Frontage on 3 sides\"},\n",
    "\"LandSlope\" :{ \"Gtl\":\"Gentle slope\",\"Mod\":\"Moderate Slope\",\"Sev\":\"Severe Slope\"},\n",
    "\"BldgType\": {\"1Fam\" : \"Single-family Detached\" ,\"2FmCon\" : \"Two-family Conversion\" ,\"Duplx\" : \"Duplex\" ,\"TwnhsE\" : \"Townhouse End Unit\" ,\"TwnhsI\" : \"Townhouse Inside Unit\"},\n",
    "\"OverallQual\": {\"10\" : \"Very Excellent\",\"9\" : \"Excellent\",\"8\" : \"Very Good\",\"7\" : \"Good\",\"6\" : \"Above Average\",\"5\" : \"Average\",\"4\" : \"Below Average\",\"3\" : \"Fair\",\"2\" : \"Poor\",\"1\" : \"Very Poor\"},\n",
    "\"OverallCond\": {\"10\" : \"Very Excellent\",\"9\" : \"Excellent\",\"8\" : \"Very Good\",\"7\" : \"Good\",\"6\" : \"Above Average\",\"5\" : \"Average\",\"4\" : \"Below Average\",\"3\" : \"Fair\",\"2\" : \"Poor\",\"1\" : \"Very Poor\"},\n",
    "\"RoofStyle\":{\"Flat\" : \"Flat\",\"Gable\" : \"Gable\",\"Gambrel\" : \"Gabrel (Barn)\",\"Hip\" : \"Hip\",\"Mansard\" : \"Mansard\",\"Shed\" : \"Shed\"},\n",
    "\"RoofMatl\": { \"ClyTile\" : \"Clay or Tile\" ,\"CompShg\" : \"Standard (Composite) Shingle\" ,\"Membran\" : \"Membrane\" ,\"Metal\" : \"Metal\" ,\"Roll\" : \"Roll\" ,\"Tar\" :\"Grv Gravel & Tar\" ,\"WdShake\" : \"Wood Shakes\" ,\"WdShngl\" : \"Wood Shingles\"},\n",
    "\"MasVnrType\":{\"BrkCmn\" : \"Brick Common\",\"BrkFace\" : \"Brick Face\",\"CBlock\" : \"Cinder Block\",\"None\" : \"None\",\"Stone\" : \"Stone\"},\n",
    "\"ExterQual\": {\"Ex\" : \"Excellent\" ,\"Gd\" : \"Good\" ,\"TA\" : \"Average/Typical\" ,\"Fa\" : \"Fair\" ,\"Po\" : \"Poor\"},\n",
    "\"ExterCond\": { \"Ex\" : \"Excellent\", \"Gd\" : \"Good\", \"TA\" : \"Average/Typical\", \"Fa\" : \"Fair\", \"Po\" : \"Poor\"},\n",
    "\"Foundation\":{\"BrkTil\" : \"Brick & Tile\",\"CBlock\" : \"Cinder Block\",\"PConc\" : \"Poured Contrete\",\"Slab\" : \"Slab\",\"Stone\" : \"Stone\",\"Wood\" : \"Wood\"},\n",
    "\"BsmtQual\": { \"Ex\" : \"Excellent (100+ inches)\", \"Gd\" : \"Good (90-99 inches)\", \"TA\" : \"Typical (80-89 inches)\", \"Fa\" : \"Fair (70-79 inches)\", \"Po\" : \"Poor (<70 inches\", \"NA\" : \"No Basement\"},\n",
    "\"BsmtCond\": {\"Ex\" : \"Excellent\",\"Gd\" : \"Good\",\"TA\" : \"Typical - slight dampness allowed\",\"Fa\" : \"Fair - dampness or some cracking or settling\",\"Po\" : \"Poor - Severe cracking, settling, or wetness\",\"NA\" : \"No Basement\"},\n",
    "\"BsmtExposure\": {\"Gd\" : \"Good Exposure\", \"Av\" : \"Average Exposure (split levels or foyers typically score average or above)\", \"Mn\" : \"Mimimum Exposure\", \"No\" : \"No Exposure\", \"NA\" : \"No Basement\"},\n",
    "\"BsmtFinType1\": { \"GLQ\" : \"Good Living Quarters\", \"ALQ\" : \"Average Living Quarters\", \"BLQ\" : \"Below Average Living Quarters\", \"Rec\" : \"Average Rec Room\", \"LwQ\" : \"Low Quality\", \"Unf\" : \"Unfinshed\", \"NA\" : \"No Basement\"},\n",
    "\"BsmtFinType2\":  {\"GLQ\" : \"Good Living Quarters\", \"ALQ\" : \"Average Living Quarters\", \"BLQ\" : \"Below Average Living Quarters\", \"Rec\" : \"Average Rec Room\", \"LwQ\" : \"Low Quality\", \"Unf\" : \"Unfinshed\", \"NA\" : \"No Basement\"},\n",
    "\"Heating\": { \"Floor\" : \"Floor Furnace\", \"GasA\" : \"Gas forced warm air furnace\", \"GasW\" : \"Gas hot water or steam heat\", \"Grav\" : \"Gravity furnace \", \"OthW\" : \"Hot water or steam heat other than gas\", \"Wall\" : \"Wall furnace\"},\n",
    "\"HeatingQC\":{\"Ex\" : \"Excellent\",\"Gd\" : \"Good\",\"TA\" : \"Average/Typical\", \"Fa\":\"Fair\",\"Po\" : \"Poor\"},\n",
    "\"CentralAir\":{ \"N\" : \"No\", \"Y\" : \"Yes\"},\n",
    "\"KitchenQual\":{\"Ex\" : \"Excellent\",\"Gd\" : \"Good\",\"TA\" : \"Typical/Average\",\"Fa\" : \"Fair\",\"Po\" : \"Poor\"},\n",
    "\"GarageFinish\":{ \"Fin\" : \"Finished\", \"RFn\" : \"Rough Finished \", \"Unf\" : \"Unfinished\", \"NA\" : \"No Garage\"},\n",
    "\"GarageQual\": {\"Ex\" : \"Excellent\",\"Gd\" : \"Good\",\"TA\" : \"Typical/Average\",\"Fa\" : \"Fair\",\"Po\" : \"Poor\",\"NA\" : \"No Garage\"},\n",
    "\"GarageCond\": {\"Ex\" : \"Excellent\",\"Gd\" : \"Good\",\"TA\" : \"Typical/Average\",\"Fa\" : \"Fair\",\"Po\" : \"Poor\",\"NA\" : \"No Garage\"},\n",
    "\"PavedDrive\": {\"Y\" : \"Paved\",\"P\" : \"Partial Pavement\",\"N\" : \"Dirt/Gravel\"},\n",
    "\"PoolQC\":  {\"Ex\" : \"Excellent\",\"Gd\" : \"Good\",\"TA\" : \"Average/Typical\",\"Fa\" : \"Fair\",\"NA\" : \"No Pool\"},\n",
    "\"Fence\":{\"GdPrv\" : \"Good Privacy\",\"MnPrv\" : \"Minimum Privacy\",\"GdWo\" : \"Good Wood\",\"MnWw\" : \"Minimum Wood/Wire\",\"NA\" : \"No Fence\"},\n",
    "\"MiscFeature\": { \"Elev\" : \"Elevator\", \"Gar2\":\"2nd Garage (if not described in garage section)\", \"Othr\" : \"Other\", \"Shed\" : \"Shed (over 100 SF)\", \"TenC\" : \"Tennis Court\", \"NA\" : \"None\"}}\n"
   ]
  },
  {
   "cell_type": "code",
   "execution_count": 13,
   "metadata": {},
   "outputs": [
    {
     "data": {
      "text/plain": [
       "{'A': 'Agriculture',\n",
       " 'C': 'Commercial',\n",
       " 'FV': 'Floating Village Residential',\n",
       " 'I': 'Industrial',\n",
       " 'RH': 'Residential High Density',\n",
       " 'RL': 'Residential Low Density',\n",
       " 'RP': 'Residential Low Density Park',\n",
       " 'RM': 'Residential Medium Density'}"
      ]
     },
     "execution_count": 13,
     "metadata": {},
     "output_type": "execute_result"
    }
   ],
   "source": [
    "MSZoning"
   ]
  }
 ],
 "metadata": {
  "kernelspec": {
   "display_name": "Python 3",
   "language": "python",
   "name": "python3"
  },
  "language_info": {
   "codemirror_mode": {
    "name": "ipython",
    "version": 3
   },
   "file_extension": ".py",
   "mimetype": "text/x-python",
   "name": "python",
   "nbconvert_exporter": "python",
   "pygments_lexer": "ipython3",
   "version": "3.7.3"
  }
 },
 "nbformat": 4,
 "nbformat_minor": 2
}
