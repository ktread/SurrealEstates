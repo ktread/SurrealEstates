{
 "cells": [
  {
   "cell_type": "markdown",
   "metadata": {},
   "source": [
    "# Ames Housing ML Challenge\n"
   ]
  },
  {
   "cell_type": "markdown",
   "metadata": {},
   "source": [
    "Laura Elliott\n",
    "group SurrealEstates\n"
   ]
  },
  {
   "cell_type": "markdown",
   "metadata": {},
   "source": [
    "---- 0.12469 in Kaggle"
   ]
  },
  {
   "cell_type": "code",
   "execution_count": null,
   "metadata": {},
   "outputs": [],
   "source": [
    "###### Importing data and loading packages\n",
    "\n",
    "import pandas as pd\n",
    "import numpy as np\n",
    "\n",
    "import scipy.stats as stats\n",
    "\n",
    "import seaborn as sns\n",
    "import matplotlib.pyplot as plt\n",
    "plt.style.use('bmh')                    \n",
    "sns.set_style({'axes.grid':False}) \n",
    "%matplotlib inline\n",
    "\n",
    "from sklearn.linear_model import LinearRegression, HuberRegressor\n",
    "\n",
    "\n",
    "train = pd.read_csv('train.csv')\n",
    "test = pd.read_csv('test.csv')"
   ]
  },
  {
   "cell_type": "code",
   "execution_count": null,
   "metadata": {},
   "outputs": [],
   "source": [
    "### Reference\n",
    "#https://www.kaggle.com/vikassingh1996/\n",
    "\n",
    "#comprehensive-data-preprocessing-and-modeling"
   ]
  },
  {
   "cell_type": "markdown",
   "metadata": {},
   "source": [
    "# 1. EDA"
   ]
  },
  {
   "cell_type": "code",
   "execution_count": null,
   "metadata": {},
   "outputs": [],
   "source": [
    "### Checking Dimensions of datasets\n",
    "\n",
    "print('Dimensions of train data:', train.shape)\n",
    "print('Dimensions of test data:', test.shape)"
   ]
  },
  {
   "cell_type": "markdown",
   "metadata": {},
   "source": [
    "### Looking at the column values in the train dataset"
   ]
  },
  {
   "cell_type": "code",
   "execution_count": null,
   "metadata": {},
   "outputs": [],
   "source": [
    "train.columns.values\n"
   ]
  },
  {
   "cell_type": "markdown",
   "metadata": {},
   "source": [
    "## Exploring Relationships"
   ]
  },
  {
   "cell_type": "markdown",
   "metadata": {},
   "source": [
    "### Correlation heatmap for all Continuous variables"
   ]
  },
  {
   "cell_type": "code",
   "execution_count": null,
   "metadata": {
    "scrolled": false
   },
   "outputs": [],
   "source": [
    "corr = train.corr()\n",
    "f, ax = plt.subplots(figsize=(15, 12))\n",
    "sns.heatmap(corr, linewidths=.5, vmin=0, vmax=1, square=True)"
   ]
  },
  {
   "cell_type": "markdown",
   "metadata": {},
   "source": [
    "###  Top 10 Correlations"
   ]
  },
  {
   "cell_type": "code",
   "execution_count": null,
   "metadata": {},
   "outputs": [],
   "source": [
    "k = 10 #number of variables for heatmap\n",
    "cols = corr.nlargest(k, 'SalePrice')['SalePrice'].index\n",
    "cm = np.corrcoef(train[cols].values.T)\n",
    "sns.set(font_scale=1.25)\n",
    "hm = sns.heatmap(cm, cbar=True, annot=True, square=True, fmt='.2f', annot_kws={'size': 10}, yticklabels=cols.values, xticklabels=cols.values)\n",
    "plt.show()"
   ]
  },
  {
   "cell_type": "markdown",
   "metadata": {},
   "source": [
    "\n",
    "#### Highest Correlations seem to be: \n",
    "   - Overall Quality\n",
    "   - Great Living Area\n",
    "   - Garage Cars\n",
    "   - Garage Area\n",
    "   - Total Basement SF\n",
    "   - First Floor SF\n",
    "   - Full Bathrooms\n",
    "   - Total Rooms above ground\n",
    "   - Year Built"
   ]
  },
  {
   "cell_type": "markdown",
   "metadata": {},
   "source": [
    "# Linearity and Remove Outliers :Top Correlations"
   ]
  },
  {
   "cell_type": "markdown",
   "metadata": {},
   "source": [
    "Outliers were removed based on IQR and which produced the best model."
   ]
  },
  {
   "cell_type": "markdown",
   "metadata": {},
   "source": [
    "#### 1stFlrSF vs. Sale Price"
   ]
  },
  {
   "cell_type": "code",
   "execution_count": null,
   "metadata": {},
   "outputs": [],
   "source": [
    "f, ax = plt.subplots(figsize=(6.5, 6.5))\n",
    "sns.scatterplot(x=\"1stFlrSF\", y=\"SalePrice\",\n",
    "                hue=\"SalePrice\",\n",
    "                palette=\"ch:r=-.2,d=.3_r\",\n",
    "                sizes=(1, 8), linewidth=0,\n",
    "                data=train, ax=ax)"
   ]
  },
  {
   "cell_type": "code",
   "execution_count": null,
   "metadata": {},
   "outputs": [],
   "source": [
    "threshold = 2000\n",
    "\n",
    "train = train[train.loc[:,'1stFlrSF'] < threshold]\n"
   ]
  },
  {
   "cell_type": "markdown",
   "metadata": {},
   "source": [
    "##### GrLivArea vs. Sale Price"
   ]
  },
  {
   "cell_type": "code",
   "execution_count": null,
   "metadata": {},
   "outputs": [],
   "source": [
    "f, ax = plt.subplots(figsize=(6.5, 6.5))\n",
    "sns.scatterplot(x=\"GrLivArea\", y=\"SalePrice\",\n",
    "                hue=\"SalePrice\",\n",
    "                palette=\"ch:r=-.2,d=.3_r\",\n",
    "                sizes=(1, 8), linewidth=0,\n",
    "                data=train, ax=ax)"
   ]
  },
  {
   "cell_type": "code",
   "execution_count": null,
   "metadata": {},
   "outputs": [],
   "source": [
    "threshold = 2500\n",
    "\n",
    "train = train[train.loc[:,'GrLivArea'] < threshold]\n",
    "\n",
    "\n"
   ]
  },
  {
   "cell_type": "markdown",
   "metadata": {},
   "source": [
    "##### Garage Area vs. SalePrice\n",
    "\n",
    "There was a very large number of 0 observations, Meaning that there is no garage. I eliminated these because they do neither add nor subtract anything from the analysis."
   ]
  },
  {
   "cell_type": "code",
   "execution_count": null,
   "metadata": {},
   "outputs": [],
   "source": [
    "f, ax = plt.subplots(figsize=(6.5, 6.5))\n",
    "sns.scatterplot(x=\"GarageArea\", y=\"SalePrice\",\n",
    "                hue=\"SalePrice\",\n",
    "                palette=\"ch:r=-.2,d=.3_r\",\n",
    "                sizes=(1, 8), linewidth=0,\n",
    "                data=train, ax=ax)"
   ]
  },
  {
   "cell_type": "code",
   "execution_count": null,
   "metadata": {},
   "outputs": [],
   "source": [
    "threshold = 1000\n",
    "\n",
    "train = train[train.loc[:,'GarageArea'] < threshold]"
   ]
  },
  {
   "cell_type": "markdown",
   "metadata": {},
   "source": [
    "##### Total Basement SF vs. SalePrice"
   ]
  },
  {
   "cell_type": "code",
   "execution_count": null,
   "metadata": {
    "scrolled": false
   },
   "outputs": [],
   "source": [
    "f, ax = plt.subplots(figsize=(6.5, 6.5))\n",
    "sns.scatterplot(x=\"TotalBsmtSF\", y=\"SalePrice\",\n",
    "                hue=\"SalePrice\",\n",
    "                palette=\"ch:r=-.2,d=.3_r\",\n",
    "                sizes=(1, 8), linewidth=0,\n",
    "                data=train, ax=ax)"
   ]
  },
  {
   "cell_type": "code",
   "execution_count": null,
   "metadata": {},
   "outputs": [],
   "source": [
    "threshold = 2000\n",
    "\n",
    "train = train[train.loc[:,'TotalBsmtSF'] < threshold]\n"
   ]
  },
  {
   "cell_type": "markdown",
   "metadata": {},
   "source": [
    "##### Total Rooms Above Ground vs. SalePrice"
   ]
  },
  {
   "cell_type": "code",
   "execution_count": null,
   "metadata": {},
   "outputs": [],
   "source": [
    "f, ax = plt.subplots(figsize=(6.5, 6.5))\n",
    "sns.scatterplot(x=\"TotRmsAbvGrd\", y=\"SalePrice\",\n",
    "                hue=\"SalePrice\",\n",
    "                palette=\"ch:r=-.2,d=.3_r\",\n",
    "                sizes=(1, 8), linewidth=0,\n",
    "                data=train, ax=ax)"
   ]
  },
  {
   "cell_type": "code",
   "execution_count": null,
   "metadata": {},
   "outputs": [],
   "source": [
    "threshold = 14\n",
    "\n",
    "train = train[train.loc[:,'TotRmsAbvGrd'] < threshold]"
   ]
  },
  {
   "cell_type": "code",
   "execution_count": null,
   "metadata": {},
   "outputs": [],
   "source": [
    "f, ax = plt.subplots(figsize=(6.5, 6.5))\n",
    "sns.scatterplot(x=\"YearBuilt\", y=\"OverallQual\",\n",
    "                hue=\"SalePrice\",\n",
    "                palette=\"ch:r=-.2,d=.3_r\",\n",
    "                sizes=(1, 8), linewidth=0,\n",
    "                data=train, ax=ax)"
   ]
  },
  {
   "cell_type": "code",
   "execution_count": null,
   "metadata": {},
   "outputs": [],
   "source": [
    "f, ax = plt.subplots(figsize=(6.5, 6.5))\n",
    "sns.scatterplot(x=\"GarageCars\", y=\"OverallQual\",\n",
    "                hue=\"SalePrice\",\n",
    "                palette=\"ch:r=-.2,d=.3_r\",\n",
    "                sizes=(1, 8), linewidth=0,\n",
    "                data=train, ax=ax)"
   ]
  },
  {
   "cell_type": "code",
   "execution_count": null,
   "metadata": {},
   "outputs": [],
   "source": [
    "f, ax = plt.subplots(figsize=(6.5, 6.5))\n",
    "sns.scatterplot(x=\"FullBath\", y=\"OverallQual\",\n",
    "                hue=\"SalePrice\",\n",
    "                palette=\"ch:r=-.2,d=.3_r\",\n",
    "                sizes=(1, 8), linewidth=0,\n",
    "                data=train, ax=ax)"
   ]
  },
  {
   "cell_type": "code",
   "execution_count": null,
   "metadata": {},
   "outputs": [],
   "source": [
    "f, ax = plt.subplots(figsize=(6.5, 6.5))\n",
    "sns.scatterplot(x=\"GarageCars\", y=\"OverallQual\",\n",
    "                hue=\"SalePrice\",\n",
    "                palette=\"ch:r=-.2,d=.3_r\",\n",
    "                sizes=(1, 8), linewidth=0,\n",
    "                data=train, ax=ax)"
   ]
  },
  {
   "cell_type": "markdown",
   "metadata": {},
   "source": [
    "## 2. Missing Variables"
   ]
  },
  {
   "cell_type": "code",
   "execution_count": null,
   "metadata": {},
   "outputs": [],
   "source": [
    "###### Combining Data\n",
    "ntrain = train.shape[0]\n",
    "ntest = test.shape[0]\n",
    "\n",
    "housing_merge = pd.merge(train, test, how='outer').reset_index(drop=True)\n",
    "\n",
    "##### Extracting 'SalePrice' and 'ID'\n",
    "### ID is extracted so it is not transformed during the normalization process\n",
    "y_sale = pd.DataFrame(train['SalePrice'])\n",
    "id_temp = pd.DataFrame(housing_merge['Id'])\n",
    "\n",
    "\n",
    "housing_merge.drop(['Id'], axis=1, inplace=True)\n",
    "housing_merge.drop(['SalePrice'], axis=1, inplace=True)\n",
    "\n",
    "print(\"Train data size is : {}\".format(train.shape))\n",
    "print(\"Test data size is : {}\".format(test.shape))\n",
    "#print(\"Combined dataset size is : {}\".format(housing_merge.shape))"
   ]
  },
  {
   "cell_type": "code",
   "execution_count": null,
   "metadata": {},
   "outputs": [],
   "source": [
    "train.head()"
   ]
  },
  {
   "cell_type": "code",
   "execution_count": null,
   "metadata": {},
   "outputs": [],
   "source": [
    "total = housing_merge.isna().sum()/housing_merge.isna().count()\n",
    "sum=housing_merge.isna().sum()\n",
    "\n",
    "missing=pd.concat([total,sum],axis=1,keys=['Perc','Sum']).sort_values(by='Perc',ascending=False)\n",
    "\n",
    "colstodrop = missing[missing['Sum']>0].index\n",
    "\n",
    "missing[missing['Sum']>0]"
   ]
  },
  {
   "cell_type": "markdown",
   "metadata": {},
   "source": [
    "There is very high missing in PoolQC, MiscFeature, Alley,and FenceQu.\n",
    "\n",
    "PoolQC and FireplacQu will be dropped here because I do not need them for feature engineering later\n"
   ]
  },
  {
   "cell_type": "code",
   "execution_count": null,
   "metadata": {
    "scrolled": true
   },
   "outputs": [],
   "source": [
    "housing_merge.drop(['PoolQC', 'FireplaceQu'], axis=1, inplace=True)"
   ]
  },
  {
   "cell_type": "markdown",
   "metadata": {},
   "source": [
    "#### Converting categorical variables in the merged dataset"
   ]
  },
  {
   "cell_type": "code",
   "execution_count": null,
   "metadata": {},
   "outputs": [],
   "source": [
    "housing_merge.loc[:,['MSSubClass', 'OverallQual', 'OverallCond', 'MoSold', 'YrSold', 'BedroomAbvGr',\n",
    "               'BsmtFullBath', 'BsmtHalfBath', 'Fireplaces', 'FullBath', 'GarageCars', 'HalfBath',\n",
    "               'KitchenAbvGr' \n",
    "             ]] = housing_merge.loc[:,['MSSubClass', 'OverallQual', 'OverallCond', 'MoSold', 'YrSold', 'BedroomAbvGr',\n",
    "               'BsmtFullBath', 'BsmtHalfBath', 'Fireplaces', 'FullBath', 'GarageCars', 'HalfBath',\n",
    "               'KitchenAbvGr' \n",
    "                               ]].astype('object')"
   ]
  },
  {
   "cell_type": "markdown",
   "metadata": {},
   "source": [
    "### Imputation"
   ]
  },
  {
   "cell_type": "markdown",
   "metadata": {},
   "source": [
    "#### Imputing mode for MSZoning, Electrical, Utilites, Exterior1st/2nd, KitchenQual, Functional, SaleType, TotalSF"
   ]
  },
  {
   "cell_type": "code",
   "execution_count": null,
   "metadata": {},
   "outputs": [],
   "source": [
    "## MSZoning\n",
    "housing_merge['MSZoning']=housing_merge['MSZoning'].fillna('RL')\n",
    "print('MSZoning unique Values: ', train['MSZoning'].unique())"
   ]
  },
  {
   "cell_type": "code",
   "execution_count": null,
   "metadata": {},
   "outputs": [],
   "source": [
    "## Electrical\n",
    "housing_merge['Electrical']=housing_merge['Electrical'].fillna('SBrkr')\n",
    "print('Electrical unique values: ', housing_merge['Electrical'].unique())"
   ]
  },
  {
   "cell_type": "code",
   "execution_count": null,
   "metadata": {},
   "outputs": [],
   "source": [
    "## Utilities\n",
    "housing_merge['Utilities']=housing_merge['Utilities'].fillna('AllPub')\n",
    "print('Utility unique values: ', housing_merge['Utilities'].unique())"
   ]
  },
  {
   "cell_type": "code",
   "execution_count": null,
   "metadata": {},
   "outputs": [],
   "source": [
    "## Exterior1st\n",
    "housing_merge['Exterior1st']=housing_merge['Exterior1st'].fillna('VinylSd')\n",
    "print('Exterior1st unique values: ', housing_merge['Exterior1st'].unique())"
   ]
  },
  {
   "cell_type": "code",
   "execution_count": null,
   "metadata": {},
   "outputs": [],
   "source": [
    "## Exterior2nd\n",
    "housing_merge['Exterior2nd']=housing_merge['Exterior2nd'].fillna('VinylSd')\n",
    "print('Exterior2nd unique values: ', housing_merge['Exterior2nd'].unique())"
   ]
  },
  {
   "cell_type": "code",
   "execution_count": null,
   "metadata": {},
   "outputs": [],
   "source": [
    "\n",
    "## KitchenQual\n",
    "housing_merge['KitchenQual']=housing_merge['KitchenQual'].fillna('TA')\n",
    "print('Kitchen Quality unique values: ', housing_merge['KitchenQual'].unique())"
   ]
  },
  {
   "cell_type": "code",
   "execution_count": null,
   "metadata": {},
   "outputs": [],
   "source": [
    "#Functional\n",
    "housing_merge['Functional']=housing_merge['Functional'].fillna('Typ')\n",
    "print('Functional unique values: ', housing_merge['Functional'].unique())"
   ]
  },
  {
   "cell_type": "code",
   "execution_count": null,
   "metadata": {},
   "outputs": [],
   "source": [
    "##SaleType\n",
    "housing_merge['SaleType']=housing_merge['SaleType'].fillna('WD')\n",
    "print('SaleType unique values: ', housing_merge['SaleType'].unique())\n"
   ]
  },
  {
   "cell_type": "markdown",
   "metadata": {},
   "source": [
    "  #### Imputing Random for Lot Frontage,  MasVnrArea, BsmtFinSF1, BsmtFinSF2, BsmtUnfSF, TotalBsmtSF, GarageArea"
   ]
  },
  {
   "cell_type": "code",
   "execution_count": null,
   "metadata": {
    "scrolled": true
   },
   "outputs": [],
   "source": [
    "# LotFrontage\n",
    "\n",
    "housing_merge['LotFrontage'] = housing_merge['LotFrontage'].apply(lambda x: np.random.choice(housing_merge['LotFrontage'].dropna().values) if np.isnan(x) else x)\n",
    "#fill_with_random(housing_merge, housing_merge['LotFrontage'])\n",
    "#.fillna(housing_merge['LotFrontage'].mean(), inplace=True)\n",
    "print('LotFrontage missing:', housing_merge['LotFrontage'].isna().sum())\n"
   ]
  },
  {
   "cell_type": "code",
   "execution_count": null,
   "metadata": {},
   "outputs": [],
   "source": [
    "# MasVnrArea\n",
    "\n",
    "housing_merge['MasVnrArea'] = housing_merge['MasVnrArea'].apply(lambda x: np.random.choice(housing_merge['MasVnrArea'].dropna().values) if np.isnan(x) else x)\n",
    "\n",
    "#housing_merge['MasVnrArea'].fillna(housing_merge['MasVnrArea'].mean(), inplace=True)\n",
    "print('MasVnrArea missing:', housing_merge['MasVnrArea'].isna().sum())\n"
   ]
  },
  {
   "cell_type": "code",
   "execution_count": null,
   "metadata": {},
   "outputs": [],
   "source": [
    "# BsmtFinSF1\n",
    "#housing_merge['BsmtFinSF1'].fillna(housing_merge['BsmtFinSF1'].mean(), inplace=True)\n",
    "\n",
    "housing_merge['BsmtFinSF1'] = housing_merge['BsmtFinSF1'].apply(lambda x: np.random.choice(housing_merge['BsmtFinSF1'].dropna().values) if np.isnan(x) else x)\n",
    "print('BsmtFinSF1 missing:', housing_merge['BsmtFinSF1'].isna().sum())\n"
   ]
  },
  {
   "cell_type": "code",
   "execution_count": null,
   "metadata": {},
   "outputs": [],
   "source": [
    "# BsmtFinSF2\n",
    "#housing_merge['BsmtFinSF2'].fillna(housing_merge['BsmtFinSF2'].mean(), inplace=True)\n",
    "housing_merge['BsmtFinSF2'] = housing_merge['BsmtFinSF2'].apply(lambda x: np.random.choice(housing_merge['BsmtFinSF2'].dropna().values) if np.isnan(x) else x)\n",
    "print('BsmtFinSF2 missing:', housing_merge['BsmtFinSF2'].isna().sum())\n"
   ]
  },
  {
   "cell_type": "code",
   "execution_count": null,
   "metadata": {
    "scrolled": true
   },
   "outputs": [],
   "source": [
    "# BsmtUnfSF\n",
    "#housing_merge['BsmtUnfSF'].fillna(housing_merge['BsmtUnfSF'].mean(), inplace=True)\n",
    "housing_merge['BsmtUnfSF'] = housing_merge['BsmtUnfSF'].apply(lambda x: np.random.choice(housing_merge['BsmtUnfSF'].dropna().values) if np.isnan(x) else x)\n",
    "print('BsmtunfSF missing:', housing_merge['BsmtUnfSF'].isna().sum())\n"
   ]
  },
  {
   "cell_type": "code",
   "execution_count": null,
   "metadata": {},
   "outputs": [],
   "source": [
    "# TotalBasmtSF\n",
    "#housing_merge['TotalBsmtSF'].fillna(housing_merge['TotalBsmtSF'].mean(), inplace=True)\n",
    "\n",
    "housing_merge['TotalBsmtSF'] = housing_merge['TotalBsmtSF'].apply(lambda x: np.random.choice(housing_merge['TotalBsmtSF'].dropna().values) if np.isnan(x) else x)\n",
    "print('TotalBsmtSF missing:', housing_merge['TotalBsmtSF'].isna().sum())\n",
    "\n"
   ]
  },
  {
   "cell_type": "code",
   "execution_count": null,
   "metadata": {},
   "outputs": [],
   "source": [
    "# GarageArea\n",
    "#housing_merge['GarageArea'].fillna(housing_merge['GarageArea'].mean(), inplace=True)\n",
    "\n",
    "housing_merge['GarageArea'] = housing_merge['GarageArea'].apply(lambda x: np.random.choice(housing_merge['GarageArea'].dropna().values) if np.isnan(x) else x)\n",
    "print('GarageArea missing:', housing_merge['GarageArea'].isna().sum())\n",
    "\n"
   ]
  },
  {
   "cell_type": "code",
   "execution_count": null,
   "metadata": {},
   "outputs": [],
   "source": [
    "# Total Bsmt Sf\n",
    "#housing_merge['TotalBsmtSF'].fillna(housing_merge['TotalBsmtSF'].mean(), inplace=True)\n",
    "housing_merge['TotalBsmtSF'] = housing_merge['TotalBsmtSF'].apply(lambda x: np.random.choice(housing_merge['TotalBsmtSF'].dropna().values) if np.isnan(x) else x)\n",
    "print('TotalBsmtSF missing:', housing_merge['TotalBsmtSF'].isna().sum())\n",
    "\n",
    "\n"
   ]
  },
  {
   "cell_type": "markdown",
   "metadata": {},
   "source": [
    "#### Imputing median for Bsmt FullBath, BsmtHalfBath, GarageCars, GarageYrBlt"
   ]
  },
  {
   "cell_type": "code",
   "execution_count": null,
   "metadata": {},
   "outputs": [],
   "source": [
    "##BedroomAbvGr\n",
    "housing_merge['BedroomAbvGr'].fillna(housing_merge['BedroomAbvGr'].median(),inplace = True)\n",
    "print('BedroomAbvGr missing: ', housing_merge['BedroomAbvGr'].isna().sum())"
   ]
  },
  {
   "cell_type": "code",
   "execution_count": null,
   "metadata": {},
   "outputs": [],
   "source": [
    "# BsmtFullBath\n",
    "housing_merge['BsmtFullBath'].fillna(housing_merge['BsmtFullBath'].median(), inplace=True)\n",
    "print('BsmtFullBath missing:', housing_merge['BsmtFullBath'].isna().sum())\n",
    "\n"
   ]
  },
  {
   "cell_type": "code",
   "execution_count": null,
   "metadata": {},
   "outputs": [],
   "source": [
    "#BsmtHalfBath\n",
    "housing_merge['BsmtHalfBath'].fillna(housing_merge['BsmtHalfBath'].median(), inplace=True)\n",
    "print('BsmtHalfBath missing:', housing_merge['BsmtHalfBath'].isna().sum())"
   ]
  },
  {
   "cell_type": "code",
   "execution_count": null,
   "metadata": {},
   "outputs": [],
   "source": [
    "#Garage Cars\n",
    "housing_merge['GarageCars'].fillna(housing_merge['GarageCars'].median(), inplace=True)\n",
    "print('GarageCars missing:', housing_merge['GarageCars'].isna().sum())"
   ]
  },
  {
   "cell_type": "code",
   "execution_count": null,
   "metadata": {},
   "outputs": [],
   "source": [
    "#GarageYrBlt\n",
    "housing_merge['GarageYrBlt'].fillna(housing_merge['GarageYrBlt'].median(), inplace=True)\n",
    "print('GarageYrBlt missing:', housing_merge['GarageYrBlt'].isna().sum())"
   ]
  },
  {
   "cell_type": "code",
   "execution_count": null,
   "metadata": {
    "scrolled": true
   },
   "outputs": [],
   "source": [
    "#Fireplaces\n",
    "housing_merge['Fireplaces'].fillna(housing_merge['Fireplaces'].median(), inplace=True)\n",
    "print('Fireplaces missing:', housing_merge['Fireplaces'].isna().sum())"
   ]
  },
  {
   "cell_type": "code",
   "execution_count": null,
   "metadata": {},
   "outputs": [],
   "source": [
    "#FullBath\n",
    "housing_merge['FullBath'].fillna(housing_merge['FullBath'].median(), inplace=True)\n",
    "print('FullBath missing:', housing_merge['FullBath'].isna().sum())"
   ]
  },
  {
   "cell_type": "code",
   "execution_count": null,
   "metadata": {
    "scrolled": true
   },
   "outputs": [],
   "source": [
    "#HalfBath \n",
    "housing_merge['HalfBath'].fillna(housing_merge['HalfBath'].median(), inplace=True)\n",
    "print('HalfBath  missing:', housing_merge['HalfBath'].isna().sum())"
   ]
  },
  {
   "cell_type": "code",
   "execution_count": null,
   "metadata": {},
   "outputs": [],
   "source": [
    "\n",
    "#KitchenAbvGr \n",
    "housing_merge['KitchenAbvGr'].fillna(housing_merge['KitchenAbvGr'].median(), inplace=True)\n",
    "print('KitchenAbvGr  missing:', housing_merge['KitchenAbvGr'].isna().sum())"
   ]
  },
  {
   "cell_type": "code",
   "execution_count": null,
   "metadata": {},
   "outputs": [],
   "source": [
    "#MSSubClass \n",
    "housing_merge['MSSubClass'].fillna(housing_merge['MSSubClass'].median(), inplace=True)\n",
    "print('MSSubClass  missing:', housing_merge['MSSubClass'].isna().sum())"
   ]
  },
  {
   "cell_type": "code",
   "execution_count": null,
   "metadata": {},
   "outputs": [],
   "source": [
    "#MoSold \n",
    "housing_merge['MoSold'].fillna(housing_merge['MoSold'].median(), inplace=True)\n",
    "print('MoSold missing:', housing_merge['MoSold'].isna().sum())"
   ]
  },
  {
   "cell_type": "code",
   "execution_count": null,
   "metadata": {},
   "outputs": [],
   "source": [
    "#OverallCond \n",
    "housing_merge['OverallCond'].fillna(housing_merge['OverallCond'].median(), inplace=True)\n",
    "print('OverallCond missing:', housing_merge['OverallCond'].isna().sum())"
   ]
  },
  {
   "cell_type": "code",
   "execution_count": null,
   "metadata": {},
   "outputs": [],
   "source": [
    "#OverallQual\n",
    "housing_merge['OverallQual'].fillna(housing_merge['OverallQual'].median(), inplace=True)\n",
    "print('OverallQual missing:', housing_merge['OverallQual'].isna().sum())"
   ]
  },
  {
   "cell_type": "code",
   "execution_count": null,
   "metadata": {
    "scrolled": true
   },
   "outputs": [],
   "source": [
    "#YrSold\n",
    "housing_merge['YrSold'].fillna(housing_merge['YrSold'].median(), inplace=True)\n",
    "print('YrSold missing:', housing_merge['YrSold'].isna().sum())"
   ]
  },
  {
   "cell_type": "code",
   "execution_count": null,
   "metadata": {},
   "outputs": [],
   "source": [
    "housing_merge.LotArea.isna().sum()"
   ]
  },
  {
   "cell_type": "markdown",
   "metadata": {},
   "source": [
    "#### Imputing 'None' for missing values where NaN is meaningful, i.e. PoolQC, MiscFeature, Alley, Fence, FireplaceQu, GarageType, GarageCOnd, GarageFinish, GarageQual, BsmtFinType2, BsmtExposure, BsmtQual, BsmtCond, BsmtFinType1, MasVnrType"
   ]
  },
  {
   "cell_type": "code",
   "execution_count": null,
   "metadata": {},
   "outputs": [],
   "source": [
    "impute_none = housing_merge.loc[:, [ 'MiscFeature', 'Alley', 'Fence',\n",
    "                                    'GarageType', 'GarageCond','GarageFinish','GarageQual',\n",
    "                                    'BsmtFinType2','BsmtExposure','BsmtQual','BsmtCond','BsmtFinType1',\n",
    "                                    'MasVnrType']]\n",
    "for i in impute_none.columns:\n",
    "    housing_merge[i].fillna('None', inplace = True)"
   ]
  },
  {
   "cell_type": "code",
   "execution_count": null,
   "metadata": {},
   "outputs": [],
   "source": [
    "#Check\n",
    "missing_columns = housing_merge.columns[housing_merge.isnull().any()].values\n",
    "missing_columns = len(housing_merge) - housing_merge.loc[:, np.sum(housing_merge.isnull())>0].count()\n",
    "missing_columns"
   ]
  },
  {
   "cell_type": "code",
   "execution_count": null,
   "metadata": {},
   "outputs": [],
   "source": [
    "housing_merge.dtypes"
   ]
  },
  {
   "cell_type": "code",
   "execution_count": null,
   "metadata": {},
   "outputs": [],
   "source": [
    "housing_merge.isna().sum()"
   ]
  },
  {
   "cell_type": "markdown",
   "metadata": {},
   "source": [
    "## 4.0 Feature Engineering"
   ]
  },
  {
   "cell_type": "markdown",
   "metadata": {},
   "source": [
    "Creating new features from old to reduce dimensionality a little"
   ]
  },
  {
   "cell_type": "code",
   "execution_count": null,
   "metadata": {},
   "outputs": [],
   "source": [
    "######### New Features\n",
    "\n",
    "housing_merge['TotalSF'] = (housing_merge['BsmtFinSF1'] + housing_merge['BsmtFinSF2'] \n",
    "                           + housing_merge['1stFlrSF'] + housing_merge['2ndFlrSF'])\n",
    "\n"
   ]
  },
  {
   "cell_type": "code",
   "execution_count": null,
   "metadata": {},
   "outputs": [],
   "source": [
    "\n",
    "housing_merge['TotalBathrooms'] = (housing_merge['FullBath'] + (0.5*housing_merge['HalfBath']) +\n",
    "                              housing_merge['BsmtFullBath'] + (0.5*housing_merge['BsmtHalfBath']))\n",
    "\n"
   ]
  },
  {
   "cell_type": "code",
   "execution_count": null,
   "metadata": {},
   "outputs": [],
   "source": [
    "housing_merge['TotalPorchSF'] = (housing_merge['OpenPorchSF'] + housing_merge['3SsnPorch'] +\n",
    "                             housing_merge['EnclosedPorch'] + housing_merge['ScreenPorch'] +\n",
    "                              housing_merge['WoodDeckSF'])"
   ]
  },
  {
   "cell_type": "code",
   "execution_count": null,
   "metadata": {
    "scrolled": true
   },
   "outputs": [],
   "source": [
    "housing_merge.isna().sum()"
   ]
  },
  {
   "cell_type": "code",
   "execution_count": null,
   "metadata": {},
   "outputs": [],
   "source": [
    "corr = housing_merge.corr()\n",
    "f, ax = plt.subplots(figsize=(15, 12))\n",
    "sns.heatmap(corr, linewidths=.5, vmin=0, vmax=1, square=True)"
   ]
  },
  {
   "cell_type": "markdown",
   "metadata": {},
   "source": [
    "Dropping Features Used to make the new ones "
   ]
  },
  {
   "cell_type": "code",
   "execution_count": null,
   "metadata": {},
   "outputs": [],
   "source": [
    "housing_merge.drop(['FullBath', 'BsmtFullBath', 'HalfBath', 'BsmtHalfBath'], axis=1, inplace=True)"
   ]
  },
  {
   "cell_type": "code",
   "execution_count": null,
   "metadata": {},
   "outputs": [],
   "source": [
    "housing_merge.drop(['BsmtFinSF1', 'BsmtFinSF2', '1stFlrSF'], axis=1, inplace=True)"
   ]
  },
  {
   "cell_type": "code",
   "execution_count": null,
   "metadata": {},
   "outputs": [],
   "source": [
    "housing_merge.drop(['3SsnPorch', 'EnclosedPorch', 'ScreenPorch', 'WoodDeckSF', 'OpenPorchSF'], axis=1, inplace=True)"
   ]
  },
  {
   "cell_type": "markdown",
   "metadata": {},
   "source": [
    "Based on the correlation matrix above will drop GarageCars and LotFrontage because they are highly correlated with other features"
   ]
  },
  {
   "cell_type": "code",
   "execution_count": null,
   "metadata": {},
   "outputs": [],
   "source": [
    "housing_merge.drop(['GarageCars'], axis=1, inplace=True)"
   ]
  },
  {
   "cell_type": "code",
   "execution_count": null,
   "metadata": {},
   "outputs": [],
   "source": [
    "housing_merge.drop(['LotFrontage'], axis=1, inplace=True)"
   ]
  },
  {
   "cell_type": "code",
   "execution_count": null,
   "metadata": {},
   "outputs": [],
   "source": []
  },
  {
   "cell_type": "code",
   "execution_count": null,
   "metadata": {},
   "outputs": [],
   "source": [
    "numeric_cols = housing_merge.dtypes[housing_merge.dtypes != \"object\"].index"
   ]
  },
  {
   "cell_type": "code",
   "execution_count": null,
   "metadata": {},
   "outputs": [],
   "source": [
    "categori_cols = housing_merge.dtypes[housing_merge.dtypes == object]"
   ]
  },
  {
   "cell_type": "code",
   "execution_count": null,
   "metadata": {},
   "outputs": [],
   "source": [
    "housing_merge.shape"
   ]
  },
  {
   "cell_type": "code",
   "execution_count": null,
   "metadata": {},
   "outputs": [],
   "source": [
    "housing_merge.MiscFeature.unique()"
   ]
  },
  {
   "cell_type": "markdown",
   "metadata": {},
   "source": []
  },
  {
   "cell_type": "markdown",
   "metadata": {
    "scrolled": true
   },
   "source": [
    "Making new binary variables from old ones"
   ]
  },
  {
   "cell_type": "code",
   "execution_count": null,
   "metadata": {},
   "outputs": [],
   "source": [
    "housing_merge['Pool'] = housing_merge['PoolArea'].apply(lambda x: 1 if x > 0 else 0)\n",
    "housing_merge['Has2flor'] = housing_merge['2ndFlrSF'].apply(lambda x: 1 if x > 0 else 0)\n",
    "housing_merge['hasGarage'] = housing_merge['GarageArea'].apply(lambda x: 1 if x > 0 else 0)\n",
    "housing_merge['hasBsmt'] = housing_merge['TotalBsmtSF'].apply(lambda x: 1 if x > 0 else 0)\n",
    "housing_merge['hasFireplace'] = housing_merge['Fireplaces'].apply(lambda x: 1 if x > 0 else 0)"
   ]
  },
  {
   "cell_type": "markdown",
   "metadata": {},
   "source": [
    "#### Using Label Encoder to encode Categorical Values"
   ]
  },
  {
   "cell_type": "code",
   "execution_count": null,
   "metadata": {},
   "outputs": [],
   "source": [
    "from sklearn.preprocessing import OneHotEncoder\n",
    "from sklearn.preprocessing import LabelEncoder\n",
    "from numpy import array\n",
    "from numpy import argmax \n",
    "\n",
    "\n",
    "#reference:https://www.kaggle.com/erick5/predicting-house-prices-with-machine-learning\n",
    "\n",
    "cols = ( 'BldgType', 'BsmtCond', 'BsmtExposure','Fence', 'MiscFeature', 'Alley',\n",
    "       'BsmtFinType1', 'BsmtFinType2', 'BsmtQual', 'Condition1', 'Condition1',\n",
    "       'Condition2', 'Electrical', 'ExterCond', 'ExterQual',\n",
    "       'Exterior1st', 'Exterior2nd', 'Foundation',\n",
    "       'GarageCond', 'Functional', 'GarageFinish', 'GarageQual', 'GarageType',\n",
    "       'Heating', 'HeatingQC', 'KitchenQual', 'LandContour', 'LandSlope',\n",
    "       'LotConfig', 'LotShape', 'MSZoning', 'MasVnrType',\n",
    "       'Neighborhood', 'PavedDrive', 'RoofMatl', 'RoofStyle',\n",
    "       'SaleCondition', 'SaleType', 'Street', 'Utilities')\n"
   ]
  },
  {
   "cell_type": "code",
   "execution_count": null,
   "metadata": {},
   "outputs": [],
   "source": [
    "#np.where(np.isnan(housing_merge))"
   ]
  },
  {
   "cell_type": "code",
   "execution_count": null,
   "metadata": {},
   "outputs": [],
   "source": [
    "##### process and encode to make it easier for the machine learning algorithm\n",
    "### to read cat var\n",
    "for c in cols:\n",
    "    lbl = LabelEncoder()\n",
    "    lbl.fit(list(housing_merge[c].values))\n",
    "    housing_merge[c] = lbl.transform(list(housing_merge[c].values))\n",
    "    \n",
    "print('Shape housing_merge: {}'.format(housing_merge.shape))"
   ]
  },
  {
   "cell_type": "code",
   "execution_count": null,
   "metadata": {},
   "outputs": [],
   "source": [
    "### hanging back to category\n",
    "\n",
    "housing_merge[['BldgType', 'BsmtCond', 'BsmtExposure',\n",
    "       'BsmtFinType1', 'BsmtFinType2', 'BsmtQual', 'Condition1', 'Condition1',\n",
    "       'Condition2', 'Electrical', 'ExterCond', 'ExterQual',\n",
    "       'Exterior1st', 'Exterior2nd', 'Foundation',\n",
    "       'GarageCond', 'Functional', 'GarageFinish', 'GarageQual', 'GarageType',\n",
    "       'Heating', 'HeatingQC', 'KitchenQual', 'LandContour', 'LandSlope',\n",
    "       'LotConfig', 'LotShape', 'MSZoning', 'MasVnrType', \n",
    "       'Neighborhood', 'PavedDrive', 'RoofMatl', 'RoofStyle',\n",
    "       'SaleCondition', 'SaleType', 'Street', 'Utilities','Fence', 'MiscFeature', 'Alley']] = housing_merge[['BldgType', 'BsmtCond', 'BsmtExposure',\n",
    "       'BsmtFinType1', 'BsmtFinType2', 'BsmtQual', 'Condition1', 'Condition1',\n",
    "       'Condition2', 'Electrical', 'ExterCond', 'ExterQual',\n",
    "       'Exterior1st', 'Exterior2nd',  'Foundation',\n",
    "       'GarageCond', 'Functional', 'GarageFinish', 'GarageQual', 'GarageType',\n",
    "       'Heating', 'HeatingQC', 'KitchenQual', 'LandContour', 'LandSlope',\n",
    "       'LotConfig', 'LotShape', 'MSZoning', 'MasVnrType', \n",
    "       'Neighborhood', 'PavedDrive', 'RoofMatl', 'RoofStyle',\n",
    "       'SaleCondition', 'SaleType', 'Street', 'Utilities','Fence', 'MiscFeature', 'Alley']].astype('category')\n"
   ]
  },
  {
   "cell_type": "code",
   "execution_count": null,
   "metadata": {},
   "outputs": [],
   "source": [
    "housing_merge = pd.get_dummies(housing_merge, drop_first = True)"
   ]
  },
  {
   "cell_type": "markdown",
   "metadata": {},
   "source": [
    "## 5.0 Checking Assumptions: Normality"
   ]
  },
  {
   "cell_type": "markdown",
   "metadata": {},
   "source": [
    "#### Continuous Vars"
   ]
  },
  {
   "cell_type": "code",
   "execution_count": null,
   "metadata": {
    "scrolled": true
   },
   "outputs": [],
   "source": [
    "num_housing_merge = housing_merge.select_dtypes(include = ['int64', 'float64'])\n",
    "display(num_housing_merge.head())\n",
    "display(num_housing_merge.columns.values)"
   ]
  },
  {
   "cell_type": "code",
   "execution_count": null,
   "metadata": {},
   "outputs": [],
   "source": [
    "train_num_std = [col for col in num_housing_merge if abs(housing_merge[col].skew()) <= 1]\n",
    "train_num_yjt = [col for col in num_housing_merge if abs(housing_merge[col].skew()) > 1]"
   ]
  },
  {
   "cell_type": "code",
   "execution_count": null,
   "metadata": {
    "scrolled": true
   },
   "outputs": [],
   "source": [
    "########### Transform\n",
    "from sklearn.preprocessing import StandardScaler\n",
    "from sklearn.preprocessing import PowerTransformer\n",
    "\n",
    "### Num\n",
    "scaler = StandardScaler().fit(housing_merge[train_num_std].values)\n",
    "housing_merge[train_num_std] = scaler.transform(housing_merge[train_num_std].values)\n",
    "\n",
    "### power transform\n",
    "pt = PowerTransformer().fit(housing_merge[train_num_yjt].values)\n",
    "housing_merge[train_num_yjt] = pt.transform(housing_merge[train_num_yjt].values)\n"
   ]
  },
  {
   "cell_type": "markdown",
   "metadata": {},
   "source": [
    "#### Sale Price"
   ]
  },
  {
   "cell_type": "code",
   "execution_count": null,
   "metadata": {},
   "outputs": [],
   "source": [
    "sns.distplot(y_sale['SalePrice'])"
   ]
  },
  {
   "cell_type": "code",
   "execution_count": null,
   "metadata": {},
   "outputs": [],
   "source": [
    "y_sale = np.log1p(y_sale)"
   ]
  },
  {
   "cell_type": "code",
   "execution_count": null,
   "metadata": {},
   "outputs": [],
   "source": [
    "sns.distplot(y_sale['SalePrice'])\n"
   ]
  },
  {
   "cell_type": "markdown",
   "metadata": {},
   "source": [
    "## 6.0 To CSV"
   ]
  },
  {
   "cell_type": "code",
   "execution_count": null,
   "metadata": {},
   "outputs": [],
   "source": [
    "housing_merge = pd.concat([housing_merge, id_temp], axis=1)"
   ]
  },
  {
   "cell_type": "code",
   "execution_count": null,
   "metadata": {},
   "outputs": [],
   "source": [
    "print(housing_merge.shape)"
   ]
  },
  {
   "cell_type": "code",
   "execution_count": null,
   "metadata": {},
   "outputs": [],
   "source": [
    "print(y_sale.shape)"
   ]
  },
  {
   "cell_type": "markdown",
   "metadata": {},
   "source": [
    "### To CSV\n"
   ]
  },
  {
   "cell_type": "code",
   "execution_count": null,
   "metadata": {},
   "outputs": [],
   "source": [
    "housing_train = pd.DataFrame(housing_merge.iloc[0:1353, :])\n",
    "housing_test = pd.DataFrame(housing_merge.iloc[1353:,:])\n",
    "\n",
    "y_train = pd.DataFrame( y_sale)"
   ]
  },
  {
   "cell_type": "code",
   "execution_count": null,
   "metadata": {},
   "outputs": [],
   "source": [
    "housing_train.to_csv('housing_train.csv', index = False)\n",
    "housing_test.to_csv('housing_test.csv', index = False)\n",
    "\n",
    "\n",
    "\n",
    "y_train.to_csv('y_housing.csv', index = False)"
   ]
  }
 ],
 "metadata": {
  "kernelspec": {
   "display_name": "Python 3",
   "language": "python",
   "name": "python3"
  },
  "language_info": {
   "codemirror_mode": {
    "name": "ipython",
    "version": 3
   },
   "file_extension": ".py",
   "mimetype": "text/x-python",
   "name": "python",
   "nbconvert_exporter": "python",
   "pygments_lexer": "ipython3",
   "version": "3.7.3"
  }
 },
 "nbformat": 4,
 "nbformat_minor": 2
}
